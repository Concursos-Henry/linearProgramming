{
 "cells": [
  {
   "cell_type": "markdown",
   "id": "97377126-9671-4061-ac12-b4ab9a807e1e",
   "metadata": {},
   "source": [
    "## Método simplex\n",
    "\n",
    "Maximize\n",
    "\n",
    "$$\\max F = 10x_1 + 7x_2$$\n",
    "\n",
    "Sujeito a \n",
    "\n",
    "$$\n",
    "\\begin{align} \n",
    "2x_1 + x_2 &\\leq 5000 \\\\\n",
    "4x_1 + 5x_2 &\\leq 15000 \\\\\n",
    "x_1, x_2 &\\geq 0\n",
    "\\end{align}\n",
    "$$"
   ]
  },
  {
   "cell_type": "markdown",
   "id": "f2db18af-ef81-4489-82fb-c43cbc83e317",
   "metadata": {},
   "source": []
  }
 ],
 "metadata": {
  "kernelspec": {
   "display_name": "Python 3 (ipykernel)",
   "language": "python",
   "name": "python3"
  },
  "language_info": {
   "codemirror_mode": {
    "name": "ipython",
    "version": 3
   },
   "file_extension": ".py",
   "mimetype": "text/x-python",
   "name": "python",
   "nbconvert_exporter": "python",
   "pygments_lexer": "ipython3",
   "version": "3.12.4"
  }
 },
 "nbformat": 4,
 "nbformat_minor": 5
}
